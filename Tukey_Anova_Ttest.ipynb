{
  "nbformat": 4,
  "nbformat_minor": 0,
  "metadata": {
    "colab": {
      "name": "INET4061_Lab3",
      "provenance": [],
      "collapsed_sections": []
    },
    "kernelspec": {
      "name": "python3",
      "display_name": "Python 3"
    }
  },
  "cells": [
    {
      "cell_type": "markdown",
      "metadata": {
        "id": "GHW1DCOwQGW7"
      },
      "source": [
        "**INET 4061 Lab 3**\r\n",
        "\r\n",
        "**Omar Porte**\r\n",
        "\r\n",
        "**2/4/2021**\r\n"
      ]
    },
    {
      "cell_type": "markdown",
      "metadata": {
        "id": "j8P7odmjQh6N"
      },
      "source": [
        "# Overview\r\n",
        "\r\n",
        "The business problem that we are trying to solve is wether or not there is a\r\n",
        "statistical difference that age and race have on voting. In order to find\r\n",
        "an answer, we will be utilizing the one-way ANOVA test. \r\n",
        "\r\n",
        "**one-way ANOVA:** used to test if the mean of a variable is different accross all of the levels of one variable.\r\n",
        "\r\n",
        "**F-test:** it is used to tell us if the standard deviations from two data sets differ statistically. \r\n",
        "\r\n",
        "**F-statistic:** if the value is big then there is a low possibility that our null hypothesis is correct. If the number is small then it is more likely that our null hypothesis is correct. bigger value: more variation between the sets of samples. lower value: more variation within the sets of the samples.\r\n",
        "\r\n",
        "**Bonferroni correction:** an adjustment made when doing many t-tests to make up for the increased chance of comming up with significant values. This is done by dividing the statistical significance level by the number of comparisons that are being made. This value will be used to compare the pvalues to and any values equal to or less than the new significance level will be considered significant.\r\n",
        "\r\n",
        "**Why use Tukey's test?:** Using Tukey's test is a great option becuase not only does it not leave out some significant values like the other options, it also provides more indepth data. It provides a confidence interval that lets you know wether or not to reject the null hypothesis for each pair and it shows the average differences.\r\n",
        "\r\n",
        "**What we are doing:** We are taking voter age and race data and testing wether there is any significant difference between the means of each demographic.  \r\n",
        "\r\n",
        "\r\n",
        "\r\n",
        "**References**\r\n",
        "\r\n",
        "1. http://hamelg.blogspot.com/2015/11/python-for-data-analysis-part-16_23.html\r\n",
        "\r\n",
        "2. https://www.khanacademy.org/math/statistics-probability/analysis-of-variance-anova-library/analysis-of-variance-anova/v/anova-3-hypothesis-test-with-f-statistic\r\n",
        "\r\n",
        "3. https://www.youtube.com/watch?v=FlIiYdHHpwU&ab_channel=LucilleBenedict"
      ]
    },
    {
      "cell_type": "markdown",
      "metadata": {
        "id": "BWyC1J4uQsTn"
      },
      "source": [
        "# Data (1)"
      ]
    },
    {
      "cell_type": "code",
      "metadata": {
        "id": "n0kXuywl-Hy3"
      },
      "source": [
        "\r\n",
        "import numpy as np\r\n",
        "import pandas as pd\r\n",
        "import matplotlib.pyplot as plt\r\n",
        "import scipy.stats as stats\r\n",
        "\r\n",
        "\r\n",
        "np.random.seed(12)\r\n",
        "\r\n",
        "races =   [\"asian\",\"black\",\"hispanic\",\"other\",\"white\"]\r\n",
        "\r\n",
        "# Generate random data\r\n",
        "voter_race = np.random.choice(a= races, p = [0.05, 0.15 ,0.25, 0.05, 0.5], size=1000)\r\n",
        "\r\n",
        "voter_age = stats.poisson.rvs(loc=18, mu=30,size=1000)\r\n",
        "\r\n",
        "# Group age data by race\r\n",
        "voter_frame = pd.DataFrame({\"race\":voter_race,\"age\":voter_age})\r\n",
        "groups = voter_frame.groupby(\"race\").groups\r\n",
        "\r\n",
        "# Etract individual groups\r\n",
        "asian = voter_age[groups[\"asian\"]]\r\n",
        "black = voter_age[groups[\"black\"]]\r\n",
        "hispanic = voter_age[groups[\"hispanic\"]]\r\n",
        "other = voter_age[groups[\"other\"]]\r\n",
        "white = voter_age[groups[\"white\"]]"
      ],
      "execution_count": 1,
      "outputs": []
    },
    {
      "cell_type": "markdown",
      "metadata": {
        "id": "3IUltVPQQx0u"
      },
      "source": [
        "# EDA (1)"
      ]
    },
    {
      "cell_type": "code",
      "metadata": {
        "colab": {
          "base_uri": "https://localhost:8080/",
          "height": 415
        },
        "id": "2WtomnHDKZ5J",
        "outputId": "4c889c72-b890-4800-fee9-9d2c87387111"
      },
      "source": [
        "voter_frame"
      ],
      "execution_count": 2,
      "outputs": [
        {
          "output_type": "execute_result",
          "data": {
            "text/html": [
              "<div>\n",
              "<style scoped>\n",
              "    .dataframe tbody tr th:only-of-type {\n",
              "        vertical-align: middle;\n",
              "    }\n",
              "\n",
              "    .dataframe tbody tr th {\n",
              "        vertical-align: top;\n",
              "    }\n",
              "\n",
              "    .dataframe thead th {\n",
              "        text-align: right;\n",
              "    }\n",
              "</style>\n",
              "<table border=\"1\" class=\"dataframe\">\n",
              "  <thead>\n",
              "    <tr style=\"text-align: right;\">\n",
              "      <th></th>\n",
              "      <th>race</th>\n",
              "      <th>age</th>\n",
              "    </tr>\n",
              "  </thead>\n",
              "  <tbody>\n",
              "    <tr>\n",
              "      <th>0</th>\n",
              "      <td>black</td>\n",
              "      <td>51</td>\n",
              "    </tr>\n",
              "    <tr>\n",
              "      <th>1</th>\n",
              "      <td>white</td>\n",
              "      <td>49</td>\n",
              "    </tr>\n",
              "    <tr>\n",
              "      <th>2</th>\n",
              "      <td>hispanic</td>\n",
              "      <td>51</td>\n",
              "    </tr>\n",
              "    <tr>\n",
              "      <th>3</th>\n",
              "      <td>white</td>\n",
              "      <td>48</td>\n",
              "    </tr>\n",
              "    <tr>\n",
              "      <th>4</th>\n",
              "      <td>asian</td>\n",
              "      <td>56</td>\n",
              "    </tr>\n",
              "    <tr>\n",
              "      <th>...</th>\n",
              "      <td>...</td>\n",
              "      <td>...</td>\n",
              "    </tr>\n",
              "    <tr>\n",
              "      <th>995</th>\n",
              "      <td>white</td>\n",
              "      <td>47</td>\n",
              "    </tr>\n",
              "    <tr>\n",
              "      <th>996</th>\n",
              "      <td>asian</td>\n",
              "      <td>40</td>\n",
              "    </tr>\n",
              "    <tr>\n",
              "      <th>997</th>\n",
              "      <td>white</td>\n",
              "      <td>50</td>\n",
              "    </tr>\n",
              "    <tr>\n",
              "      <th>998</th>\n",
              "      <td>white</td>\n",
              "      <td>51</td>\n",
              "    </tr>\n",
              "    <tr>\n",
              "      <th>999</th>\n",
              "      <td>hispanic</td>\n",
              "      <td>43</td>\n",
              "    </tr>\n",
              "  </tbody>\n",
              "</table>\n",
              "<p>1000 rows × 2 columns</p>\n",
              "</div>"
            ],
            "text/plain": [
              "         race  age\n",
              "0       black   51\n",
              "1       white   49\n",
              "2    hispanic   51\n",
              "3       white   48\n",
              "4       asian   56\n",
              "..        ...  ...\n",
              "995     white   47\n",
              "996     asian   40\n",
              "997     white   50\n",
              "998     white   51\n",
              "999  hispanic   43\n",
              "\n",
              "[1000 rows x 2 columns]"
            ]
          },
          "metadata": {
            "tags": []
          },
          "execution_count": 2
        }
      ]
    },
    {
      "cell_type": "markdown",
      "metadata": {
        "id": "mYzt4jUjLBHp"
      },
      "source": [
        "The voter_frame DataFrame has 2 columns and 1000 rows"
      ]
    },
    {
      "cell_type": "code",
      "metadata": {
        "colab": {
          "base_uri": "https://localhost:8080/"
        },
        "id": "0HRKv0_FLmki",
        "outputId": "35943ffa-6d09-4fde-8653-9e275f0411b1"
      },
      "source": [
        "type(groups)"
      ],
      "execution_count": 3,
      "outputs": [
        {
          "output_type": "execute_result",
          "data": {
            "text/plain": [
              "pandas.io.formats.printing.PrettyDict"
            ]
          },
          "metadata": {
            "tags": []
          },
          "execution_count": 3
        }
      ]
    },
    {
      "cell_type": "code",
      "metadata": {
        "colab": {
          "base_uri": "https://localhost:8080/"
        },
        "id": "n3-l4DQsPO5t",
        "outputId": "706176ef-b262-416b-cdce-17acdd19c939"
      },
      "source": [
        "groups.values()"
      ],
      "execution_count": 4,
      "outputs": [
        {
          "output_type": "execute_result",
          "data": {
            "text/plain": [
              "dict_values([Int64Index([  4,   7,  14,  21,  49,  53,  59,  78,  95,  98, 135, 136, 162,\n",
              "            203, 227, 264, 278, 289, 326, 335, 345, 373, 430, 480, 484, 491,\n",
              "            516, 587, 602, 684, 692, 708, 715, 761, 776, 826, 828, 832, 853,\n",
              "            897, 942, 951, 986, 996],\n",
              "           dtype='int64'), Int64Index([  0,   9,  19,  22,  23,  42,  50,  56,  62,  76,\n",
              "            ...\n",
              "            948, 956, 961, 965, 968, 972, 982, 984, 989, 990],\n",
              "           dtype='int64', length=147), Int64Index([  2,  10,  24,  28,  31,  32,  38,  40,  44,  45,\n",
              "            ...\n",
              "            954, 955, 958, 959, 962, 964, 966, 974, 994, 999],\n",
              "           dtype='int64', length=244), Int64Index([ 17,  26,  39,  46,  48,  65,  67,  72, 146, 237, 246, 255, 284,\n",
              "            302, 317, 322, 358, 370, 386, 413, 425, 446, 530, 542, 569, 571,\n",
              "            573, 575, 583, 626, 629, 637, 662, 696, 700, 701, 728, 739, 756,\n",
              "            757, 773, 813, 819, 880, 923, 936, 939, 971, 980, 992],\n",
              "           dtype='int64'), Int64Index([  1,   3,   5,   6,   8,  11,  12,  13,  15,  16,\n",
              "            ...\n",
              "            981, 983, 985, 987, 988, 991, 993, 995, 997, 998],\n",
              "           dtype='int64', length=515)])"
            ]
          },
          "metadata": {
            "tags": []
          },
          "execution_count": 4
        }
      ]
    },
    {
      "cell_type": "code",
      "metadata": {
        "colab": {
          "base_uri": "https://localhost:8080/"
        },
        "id": "HdGssuqEPR-v",
        "outputId": "dd73320e-46cb-47ea-c03e-89559e65b3e9"
      },
      "source": [
        "groups.keys()"
      ],
      "execution_count": 5,
      "outputs": [
        {
          "output_type": "execute_result",
          "data": {
            "text/plain": [
              "dict_keys(['asian', 'black', 'hispanic', 'other', 'white'])"
            ]
          },
          "metadata": {
            "tags": []
          },
          "execution_count": 5
        }
      ]
    },
    {
      "cell_type": "markdown",
      "metadata": {
        "id": "pTmyXERFMN9T"
      },
      "source": [
        "The groups var is a dictionary where the keys are the races and the values are a list of all the ages associated with them."
      ]
    },
    {
      "cell_type": "code",
      "metadata": {
        "colab": {
          "base_uri": "https://localhost:8080/",
          "height": 294
        },
        "id": "EFVOv80sMasg",
        "outputId": "1f06b741-0bd8-40a9-8243-109a06bcab4b"
      },
      "source": [
        "voter_frame.describe()"
      ],
      "execution_count": 6,
      "outputs": [
        {
          "output_type": "execute_result",
          "data": {
            "text/html": [
              "<div>\n",
              "<style scoped>\n",
              "    .dataframe tbody tr th:only-of-type {\n",
              "        vertical-align: middle;\n",
              "    }\n",
              "\n",
              "    .dataframe tbody tr th {\n",
              "        vertical-align: top;\n",
              "    }\n",
              "\n",
              "    .dataframe thead th {\n",
              "        text-align: right;\n",
              "    }\n",
              "</style>\n",
              "<table border=\"1\" class=\"dataframe\">\n",
              "  <thead>\n",
              "    <tr style=\"text-align: right;\">\n",
              "      <th></th>\n",
              "      <th>age</th>\n",
              "    </tr>\n",
              "  </thead>\n",
              "  <tbody>\n",
              "    <tr>\n",
              "      <th>count</th>\n",
              "      <td>1000.000000</td>\n",
              "    </tr>\n",
              "    <tr>\n",
              "      <th>mean</th>\n",
              "      <td>47.773000</td>\n",
              "    </tr>\n",
              "    <tr>\n",
              "      <th>std</th>\n",
              "      <td>5.308074</td>\n",
              "    </tr>\n",
              "    <tr>\n",
              "      <th>min</th>\n",
              "      <td>34.000000</td>\n",
              "    </tr>\n",
              "    <tr>\n",
              "      <th>25%</th>\n",
              "      <td>44.000000</td>\n",
              "    </tr>\n",
              "    <tr>\n",
              "      <th>50%</th>\n",
              "      <td>48.000000</td>\n",
              "    </tr>\n",
              "    <tr>\n",
              "      <th>75%</th>\n",
              "      <td>51.000000</td>\n",
              "    </tr>\n",
              "    <tr>\n",
              "      <th>max</th>\n",
              "      <td>66.000000</td>\n",
              "    </tr>\n",
              "  </tbody>\n",
              "</table>\n",
              "</div>"
            ],
            "text/plain": [
              "               age\n",
              "count  1000.000000\n",
              "mean     47.773000\n",
              "std       5.308074\n",
              "min      34.000000\n",
              "25%      44.000000\n",
              "50%      48.000000\n",
              "75%      51.000000\n",
              "max      66.000000"
            ]
          },
          "metadata": {
            "tags": []
          },
          "execution_count": 6
        }
      ]
    },
    {
      "cell_type": "markdown",
      "metadata": {
        "id": "XsSxb7eYMxTJ"
      },
      "source": [
        "The avereage age is 47.77 years, the standard deviation from the average age is 5.31 years, the min age is 34 years, and the max age is 66 years."
      ]
    },
    {
      "cell_type": "code",
      "metadata": {
        "colab": {
          "base_uri": "https://localhost:8080/",
          "height": 316
        },
        "id": "aJaWDoXYMbxL",
        "outputId": "f611346b-9e38-4cf4-af9b-7c29029ab42c"
      },
      "source": [
        "voter_frame.hist()"
      ],
      "execution_count": 7,
      "outputs": [
        {
          "output_type": "execute_result",
          "data": {
            "text/plain": [
              "array([[<matplotlib.axes._subplots.AxesSubplot object at 0x7f0316686b70>]],\n",
              "      dtype=object)"
            ]
          },
          "metadata": {
            "tags": []
          },
          "execution_count": 7
        },
        {
          "output_type": "display_data",
          "data": {
            "image/png": "[encoded data removed]",
            "text/plain": [
              "<Figure size 432x288 with 1 Axes>"
            ]
          },
          "metadata": {
            "tags": [],
            "needs_background": "light"
          }
        }
      ]
    },
    {
      "cell_type": "markdown",
      "metadata": {
        "id": "UMXGL5nkQ1g2"
      },
      "source": [
        "# Models"
      ]
    },
    {
      "cell_type": "code",
      "metadata": {
        "colab": {
          "base_uri": "https://localhost:8080/"
        },
        "id": "jdx8U1UJP7eo",
        "outputId": "ed683bd5-5b55-4c85-acc7-1e255ac52188"
      },
      "source": [
        "# oneway ANOVA\r\n",
        "\r\n",
        "stats.f_oneway(asian, black, hispanic, other, white)\r\n"
      ],
      "execution_count": 8,
      "outputs": [
        {
          "output_type": "execute_result",
          "data": {
            "text/plain": [
              "F_onewayResult(statistic=1.7744689357329695, pvalue=0.13173183201930463)"
            ]
          },
          "metadata": {
            "tags": []
          },
          "execution_count": 8
        }
      ]
    },
    {
      "cell_type": "markdown",
      "metadata": {
        "id": "eavjjleJQO4B"
      },
      "source": [
        "The statistic is an F statistic that gets compared to the F distribution and the pvalue is the evidence against the null hypothesis. Since the p value is high (> 0.05) it is not significant enough to reject the null hypothesis (there is no diffenece between the different means)."
      ]
    },
    {
      "cell_type": "code",
      "metadata": {
        "colab": {
          "base_uri": "https://localhost:8080/"
        },
        "id": "dUtcHVRngwIB",
        "outputId": "a65f5c40-f333-4745-98e5-eccd0465c8bb"
      },
      "source": [
        "# t test with Bonferroni correction\r\n",
        "\r\n",
        "race_pairs = []\r\n",
        "\r\n",
        "for race1 in range(4):\r\n",
        "    for race2  in range(race1+1,5):\r\n",
        "        race_pairs.append((races[race1], races[race2]))\r\n",
        "\r\n",
        "# Conduct t-test on each pair\r\n",
        "for race1, race2 in race_pairs: \r\n",
        "    print(race1, race2)\r\n",
        "    print(stats.ttest_ind(voter_age[groups[race1]], \r\n",
        "                          voter_age[groups[race2]]))    "
      ],
      "execution_count": 9,
      "outputs": [
        {
          "output_type": "stream",
          "text": [
            "asian black\n",
            "Ttest_indResult(statistic=1.4723166654510063, pvalue=0.14259864916065687)\n",
            "asian hispanic\n",
            "Ttest_indResult(statistic=0.7952576949464497, pvalue=0.42712310624411387)\n",
            "asian other\n",
            "Ttest_indResult(statistic=0.023943564194904926, pvalue=0.9809494819541007)\n",
            "asian white\n",
            "Ttest_indResult(statistic=1.7847665455760953, pvalue=0.07484331440702094)\n",
            "black hispanic\n",
            "Ttest_indResult(statistic=-0.9779887872139286, pvalue=0.328687679434698)\n",
            "black other\n",
            "Ttest_indResult(statistic=-1.537940275215305, pvalue=0.12568427083007871)\n",
            "black white\n",
            "Ttest_indResult(statistic=0.1754225782292794, pvalue=0.860801405242227)\n",
            "hispanic other\n",
            "Ttest_indResult(statistic=-0.8181367221979297, pvalue=0.41394624196541574)\n",
            "hispanic white\n",
            "Ttest_indResult(statistic=1.5959271355589721, pvalue=0.11092241932285327)\n",
            "other white\n",
            "Ttest_indResult(statistic=1.866874647450789, pvalue=0.06243863321791571)\n"
          ],
          "name": "stdout"
        }
      ]
    },
    {
      "cell_type": "markdown",
      "metadata": {
        "id": "fp0H00IZg_8M"
      },
      "source": [
        "The pvalue for each of the reace pairs is not significantly low (< 0.005) so there is no reason to reject the null hypothesis"
      ]
    },
    {
      "cell_type": "code",
      "metadata": {
        "colab": {
          "base_uri": "https://localhost:8080/",
          "height": 691
        },
        "id": "MO1_BPQXmNhP",
        "outputId": "527e97fa-aed6-41dd-a876-5f55312b61a1"
      },
      "source": [
        "# Tukey test\r\n",
        "\r\n",
        "from statsmodels.stats.multicomp import pairwise_tukeyhsd\r\n",
        "\r\n",
        "tukey = pairwise_tukeyhsd(endog=voter_age, groups=voter_race, alpha=0.05)  \r\n",
        "\r\n",
        "tukey.plot_simultaneous()    \r\n",
        "plt.vlines(x=49.57,ymin=-0.5,ymax=4.5, color=\"red\")\r\n",
        "\r\n",
        "tukey.summary()  "
      ],
      "execution_count": 10,
      "outputs": [
        {
          "output_type": "stream",
          "text": [
            "/usr/local/lib/python3.6/dist-packages/statsmodels/tools/_testing.py:19: FutureWarning: pandas.util.testing is deprecated. Use the functions in the public API at pandas.testing instead.\n",
            "  import pandas.util.testing as tm\n"
          ],
          "name": "stderr"
        },
        {
          "output_type": "execute_result",
          "data": {
            "text/html": [
              "<table class=\"simpletable\">\n",
              "<caption>Multiple Comparison of Means - Tukey HSD, FWER=0.05</caption>\n",
              "<tr>\n",
              "   <th>group1</th>   <th>group2</th>  <th>meandiff</th>  <th>p-adj</th>  <th>lower</th>   <th>upper</th> <th>reject</th>\n",
              "</tr>\n",
              "<tr>\n",
              "    <td>asian</td>    <td>black</td>   <td>-1.3353</td> <td>0.5735</td> <td>-3.8242</td> <td>1.1535</td>  <td>False</td>\n",
              "</tr>\n",
              "<tr>\n",
              "    <td>asian</td>  <td>hispanic</td>  <td>-0.7593</td>   <td>0.9</td>  <td>-3.1315</td> <td>1.6129</td>  <td>False</td>\n",
              "</tr>\n",
              "<tr>\n",
              "    <td>asian</td>    <td>other</td>   <td>-0.0264</td>   <td>0.9</td>  <td>-3.0202</td> <td>2.9674</td>  <td>False</td>\n",
              "</tr>\n",
              "<tr>\n",
              "    <td>asian</td>    <td>white</td>   <td>-1.4184</td> <td>0.4336</td> <td>-3.6932</td> <td>0.8564</td>  <td>False</td>\n",
              "</tr>\n",
              "<tr>\n",
              "    <td>black</td>  <td>hispanic</td>   <td>0.576</td>  <td>0.8145</td> <td>-0.9362</td> <td>2.0882</td>  <td>False</td>\n",
              "</tr>\n",
              "<tr>\n",
              "    <td>black</td>    <td>other</td>    <td>1.309</td>  <td>0.5494</td> <td>-1.0622</td> <td>3.6801</td>  <td>False</td>\n",
              "</tr>\n",
              "<tr>\n",
              "    <td>black</td>    <td>white</td>   <td>-0.0831</td>   <td>0.9</td>  <td>-1.4374</td> <td>1.2713</td>  <td>False</td>\n",
              "</tr>\n",
              "<tr>\n",
              "  <td>hispanic</td>   <td>other</td>    <td>0.733</td>  <td>0.8996</td> <td>-1.5154</td> <td>2.9813</td>  <td>False</td>\n",
              "</tr>\n",
              "<tr>\n",
              "  <td>hispanic</td>   <td>white</td>   <td>-0.6591</td> <td>0.4974</td> <td>-1.7847</td> <td>0.4665</td>  <td>False</td>\n",
              "</tr>\n",
              "<tr>\n",
              "    <td>other</td>    <td>white</td>   <td>-1.392</td>  <td>0.3912</td> <td>-3.5374</td> <td>0.7533</td>  <td>False</td>\n",
              "</tr>\n",
              "</table>"
            ],
            "text/plain": [
              "<class 'statsmodels.iolib.table.SimpleTable'>"
            ]
          },
          "metadata": {
            "tags": []
          },
          "execution_count": 10
        },
        {
          "output_type": "display_data",
          "data": {
            "image/png": "[encoded data removed]",
            "text/plain": [
              "<Figure size 720x432 with 1 Axes>"
            ]
          },
          "metadata": {
            "tags": [],
            "needs_background": "light"
          }
        }
      ]
    },
    {
      "cell_type": "markdown",
      "metadata": {
        "id": "KnqhJm4xm6kA"
      },
      "source": [
        "The tukey summary shows that none of the pvalues for any of these pairs are significant enough to reject the null hypothesis. The chart also furthers this point. All of the confidence intervals overlap, meaning it is not for sure that any of the groups differ enough to reject the null hypothesis."
      ]
    },
    {
      "cell_type": "markdown",
      "metadata": {
        "id": "_z5baNcKSH1w"
      },
      "source": [
        "# Data (2)"
      ]
    },
    {
      "cell_type": "code",
      "metadata": {
        "id": "jtjP8oWESME0"
      },
      "source": [
        "np.random.seed(12)\r\n",
        "\r\n",
        "# Generate random data\r\n",
        "voter_race = np.random.choice(a= races, p = [0.05, 0.15 ,0.25, 0.05, 0.5], size=1000)\r\n",
        "\r\n",
        "# Use a different distribution for white ages\r\n",
        "white_ages = stats.poisson.rvs(loc=18, mu=32, size=1000)\r\n",
        "\r\n",
        "voter_age = stats.poisson.rvs(loc=18, mu=30, size=1000)\r\n",
        "\r\n",
        "voter_age = np.where(voter_race==\"white\", white_ages, voter_age)\r\n",
        "\r\n",
        "# Group age data by race\r\n",
        "voter_frame = pd.DataFrame({\"race\":voter_race,\"age\":voter_age})\r\n",
        "groups = voter_frame.groupby(\"race\").groups   \r\n",
        "\r\n",
        "# Extract individual groups\r\n",
        "asian = voter_age[groups[\"asian\"]]\r\n",
        "black = voter_age[groups[\"black\"]]\r\n",
        "hispanic = voter_age[groups[\"hispanic\"]]\r\n",
        "other = voter_age[groups[\"other\"]]\r\n",
        "white = voter_age[groups[\"white\"]]\r\n",
        "\r\n"
      ],
      "execution_count": 11,
      "outputs": []
    },
    {
      "cell_type": "markdown",
      "metadata": {
        "id": "qJxchJAKSNpM"
      },
      "source": [
        "# EDA (2)"
      ]
    },
    {
      "cell_type": "code",
      "metadata": {
        "colab": {
          "base_uri": "https://localhost:8080/",
          "height": 263
        },
        "id": "Ln2NtXRnS6FA",
        "outputId": "f3e1a52a-e5b6-4e37-b470-8d586a8ddbf4"
      },
      "source": [
        "voter_frame.groupby('race').describe()"
      ],
      "execution_count": 12,
      "outputs": [
        {
          "output_type": "execute_result",
          "data": {
            "text/html": [
              "<div>\n",
              "<style scoped>\n",
              "    .dataframe tbody tr th:only-of-type {\n",
              "        vertical-align: middle;\n",
              "    }\n",
              "\n",
              "    .dataframe tbody tr th {\n",
              "        vertical-align: top;\n",
              "    }\n",
              "\n",
              "    .dataframe thead tr th {\n",
              "        text-align: left;\n",
              "    }\n",
              "\n",
              "    .dataframe thead tr:last-of-type th {\n",
              "        text-align: right;\n",
              "    }\n",
              "</style>\n",
              "<table border=\"1\" class=\"dataframe\">\n",
              "  <thead>\n",
              "    <tr>\n",
              "      <th></th>\n",
              "      <th colspan=\"8\" halign=\"left\">age</th>\n",
              "    </tr>\n",
              "    <tr>\n",
              "      <th></th>\n",
              "      <th>count</th>\n",
              "      <th>mean</th>\n",
              "      <th>std</th>\n",
              "      <th>min</th>\n",
              "      <th>25%</th>\n",
              "      <th>50%</th>\n",
              "      <th>75%</th>\n",
              "      <th>max</th>\n",
              "    </tr>\n",
              "    <tr>\n",
              "      <th>race</th>\n",
              "      <th></th>\n",
              "      <th></th>\n",
              "      <th></th>\n",
              "      <th></th>\n",
              "      <th></th>\n",
              "      <th></th>\n",
              "      <th></th>\n",
              "      <th></th>\n",
              "    </tr>\n",
              "  </thead>\n",
              "  <tbody>\n",
              "    <tr>\n",
              "      <th>asian</th>\n",
              "      <td>44.0</td>\n",
              "      <td>48.204545</td>\n",
              "      <td>4.925395</td>\n",
              "      <td>39.0</td>\n",
              "      <td>45.0</td>\n",
              "      <td>47.0</td>\n",
              "      <td>51.0</td>\n",
              "      <td>59.0</td>\n",
              "    </tr>\n",
              "    <tr>\n",
              "      <th>black</th>\n",
              "      <td>147.0</td>\n",
              "      <td>47.401361</td>\n",
              "      <td>5.750116</td>\n",
              "      <td>35.0</td>\n",
              "      <td>43.0</td>\n",
              "      <td>47.0</td>\n",
              "      <td>51.0</td>\n",
              "      <td>67.0</td>\n",
              "    </tr>\n",
              "    <tr>\n",
              "      <th>hispanic</th>\n",
              "      <td>244.0</td>\n",
              "      <td>48.618852</td>\n",
              "      <td>6.100514</td>\n",
              "      <td>32.0</td>\n",
              "      <td>45.0</td>\n",
              "      <td>48.0</td>\n",
              "      <td>53.0</td>\n",
              "      <td>72.0</td>\n",
              "    </tr>\n",
              "    <tr>\n",
              "      <th>other</th>\n",
              "      <td>50.0</td>\n",
              "      <td>47.140000</td>\n",
              "      <td>5.532870</td>\n",
              "      <td>29.0</td>\n",
              "      <td>44.0</td>\n",
              "      <td>48.0</td>\n",
              "      <td>50.0</td>\n",
              "      <td>59.0</td>\n",
              "    </tr>\n",
              "    <tr>\n",
              "      <th>white</th>\n",
              "      <td>515.0</td>\n",
              "      <td>50.159223</td>\n",
              "      <td>5.404088</td>\n",
              "      <td>36.0</td>\n",
              "      <td>47.0</td>\n",
              "      <td>50.0</td>\n",
              "      <td>54.0</td>\n",
              "      <td>69.0</td>\n",
              "    </tr>\n",
              "  </tbody>\n",
              "</table>\n",
              "</div>"
            ],
            "text/plain": [
              "            age                                                   \n",
              "          count       mean       std   min   25%   50%   75%   max\n",
              "race                                                              \n",
              "asian      44.0  48.204545  4.925395  39.0  45.0  47.0  51.0  59.0\n",
              "black     147.0  47.401361  5.750116  35.0  43.0  47.0  51.0  67.0\n",
              "hispanic  244.0  48.618852  6.100514  32.0  45.0  48.0  53.0  72.0\n",
              "other      50.0  47.140000  5.532870  29.0  44.0  48.0  50.0  59.0\n",
              "white     515.0  50.159223  5.404088  36.0  47.0  50.0  54.0  69.0"
            ]
          },
          "metadata": {
            "tags": []
          },
          "execution_count": 12
        }
      ]
    },
    {
      "cell_type": "markdown",
      "metadata": {
        "id": "SPSjs1Z3Uj30"
      },
      "source": [
        "\r\n",
        "\r\n",
        "1.   Asian has the least amount of people (44)\r\n",
        "2.   White has the most amount of people (515)\r\n",
        "3.   All the races have a mean age between 47 and 50.2\r\n",
        "4.   Hispanic has the oldest age (72)\r\n",
        "5.   Hispanic has the highest std from the mean age (6.1)\r\n",
        "6.   Asian has the lowes std from the mean age (4.92)\r\n",
        "7.   Asian has the youngest age (59)\r\n",
        "\r\n"
      ]
    },
    {
      "cell_type": "markdown",
      "metadata": {
        "id": "8gUD1MuFSuj5"
      },
      "source": [
        "# Models (2)"
      ]
    },
    {
      "cell_type": "code",
      "metadata": {
        "colab": {
          "base_uri": "https://localhost:8080/"
        },
        "id": "G7pOnB7gSG0B",
        "outputId": "aafe2b27-4e0f-490f-f904-1830b7f127de"
      },
      "source": [
        "# Perform the ANOVA\r\n",
        "stats.f_oneway(asian, black, hispanic, other, white)"
      ],
      "execution_count": 13,
      "outputs": [
        {
          "output_type": "execute_result",
          "data": {
            "text/plain": [
              "F_onewayResult(statistic=10.164699828386366, pvalue=4.5613242113994585e-08)"
            ]
          },
          "metadata": {
            "tags": []
          },
          "execution_count": 13
        }
      ]
    },
    {
      "cell_type": "markdown",
      "metadata": {
        "id": "w5dCSHlLWegc"
      },
      "source": [
        "The pvalue is significantly low (< 0.05) so we are going to reject the null hypothesis."
      ]
    },
    {
      "cell_type": "code",
      "metadata": {
        "colab": {
          "base_uri": "https://localhost:8080/"
        },
        "id": "loFWEIqthqDm",
        "outputId": "6c8ae1b6-4611-4a50-9bd0-273b4806ff38"
      },
      "source": [
        "# t test with Bonferroni correction\r\n",
        "\r\n",
        "race_pairs = []\r\n",
        "\r\n",
        "for race1 in range(4):\r\n",
        "    for race2  in range(race1+1,5):\r\n",
        "        race_pairs.append((races[race1], races[race2]))\r\n",
        "\r\n",
        "# Conduct t-test on each pair\r\n",
        "for race1, race2 in race_pairs: \r\n",
        "    print(race1, race2)\r\n",
        "    print(stats.ttest_ind(voter_age[groups[race1]], \r\n",
        "                          voter_age[groups[race2]]))"
      ],
      "execution_count": 14,
      "outputs": [
        {
          "output_type": "stream",
          "text": [
            "asian black\n",
            "Ttest_indResult(statistic=0.838644690974798, pvalue=0.4027281369339345)\n",
            "asian hispanic\n",
            "Ttest_indResult(statistic=-0.42594691924932293, pvalue=0.6704669004240726)\n",
            "asian other\n",
            "Ttest_indResult(statistic=0.9795284739636, pvalue=0.3298877500095151)\n",
            "asian white\n",
            "Ttest_indResult(statistic=-2.318108811252288, pvalue=0.020804701566400217)\n",
            "black hispanic\n",
            "Ttest_indResult(statistic=-1.9527839210712925, pvalue=0.05156197171952594)\n",
            "black other\n",
            "Ttest_indResult(statistic=0.28025754367057176, pvalue=0.7795770111117659)\n",
            "black white\n",
            "Ttest_indResult(statistic=-5.379303881281835, pvalue=1.039421216662395e-07)\n",
            "hispanic other\n",
            "Ttest_indResult(statistic=1.5853626170340225, pvalue=0.11396630528484335)\n",
            "hispanic white\n",
            "Ttest_indResult(statistic=-3.5160312714115376, pvalue=0.0004641298649066684)\n",
            "other white\n",
            "Ttest_indResult(statistic=-3.763809322077872, pvalue=0.00018490576317593065)\n"
          ],
          "name": "stdout"
        }
      ]
    },
    {
      "cell_type": "markdown",
      "metadata": {
        "id": "UOGiQQvUhwk9"
      },
      "source": [
        "The pvalues that show significance are the (asian, white), (black, white), (hispanic, white), and (other, white) pairs. All of these pairs have a significantly low pvalue, but with the Bonferroni correction they must be < 0.005 (.05/10 = 0.005). The only two pairs that apply to this are (hispanic, white) and (other, white)."
      ]
    },
    {
      "cell_type": "code",
      "metadata": {
        "colab": {
          "base_uri": "https://localhost:8080/",
          "height": 637
        },
        "id": "vmTvKGPop80D",
        "outputId": "d81b2e2d-81b8-451c-e044-0bea7b4fdd27"
      },
      "source": [
        "# Tukey test\r\n",
        "\r\n",
        "from statsmodels.stats.multicomp import pairwise_tukeyhsd\r\n",
        "\r\n",
        "tukey = pairwise_tukeyhsd(endog=voter_age, groups=voter_race, alpha=0.05)  \r\n",
        "\r\n",
        "tukey.plot_simultaneous()    \r\n",
        "plt.vlines(x=49.57,ymin=-0.5,ymax=4.5, color=\"red\")\r\n",
        "\r\n",
        "tukey.summary()  "
      ],
      "execution_count": 15,
      "outputs": [
        {
          "output_type": "execute_result",
          "data": {
            "text/html": [
              "<table class=\"simpletable\">\n",
              "<caption>Multiple Comparison of Means - Tukey HSD, FWER=0.05</caption>\n",
              "<tr>\n",
              "   <th>group1</th>   <th>group2</th>  <th>meandiff</th>  <th>p-adj</th>  <th>lower</th>   <th>upper</th> <th>reject</th>\n",
              "</tr>\n",
              "<tr>\n",
              "    <td>asian</td>    <td>black</td>   <td>-0.8032</td>   <td>0.9</td>  <td>-3.4423</td>  <td>1.836</td>  <td>False</td>\n",
              "</tr>\n",
              "<tr>\n",
              "    <td>asian</td>  <td>hispanic</td>  <td>0.4143</td>    <td>0.9</td>  <td>-2.1011</td> <td>2.9297</td>  <td>False</td>\n",
              "</tr>\n",
              "<tr>\n",
              "    <td>asian</td>    <td>other</td>   <td>-1.0645</td> <td>0.8852</td> <td>-4.2391</td>  <td>2.11</td>   <td>False</td>\n",
              "</tr>\n",
              "<tr>\n",
              "    <td>asian</td>    <td>white</td>   <td>1.9547</td>   <td>0.175</td> <td>-0.4575</td> <td>4.3668</td>  <td>False</td>\n",
              "</tr>\n",
              "<tr>\n",
              "    <td>black</td>  <td>hispanic</td>  <td>1.2175</td>  <td>0.2318</td> <td>-0.386</td>   <td>2.821</td>  <td>False</td>\n",
              "</tr>\n",
              "<tr>\n",
              "    <td>black</td>    <td>other</td>   <td>-0.2614</td>   <td>0.9</td>  <td>-2.7757</td>  <td>2.253</td>  <td>False</td>\n",
              "</tr>\n",
              "<tr>\n",
              "    <td>black</td>    <td>white</td>   <td>2.7579</td>   <td>0.001</td> <td>1.3217</td>   <td>4.194</td>  <td>True</td> \n",
              "</tr>\n",
              "<tr>\n",
              "  <td>hispanic</td>   <td>other</td>   <td>-1.4789</td> <td>0.4391</td> <td>-3.863</td>  <td>0.9053</td>  <td>False</td>\n",
              "</tr>\n",
              "<tr>\n",
              "  <td>hispanic</td>   <td>white</td>   <td>1.5404</td>   <td>0.004</td> <td>0.3468</td>   <td>2.734</td>  <td>True</td> \n",
              "</tr>\n",
              "<tr>\n",
              "    <td>other</td>    <td>white</td>   <td>3.0192</td>  <td>0.0028</td> <td>0.7443</td>  <td>5.2941</td>  <td>True</td> \n",
              "</tr>\n",
              "</table>"
            ],
            "text/plain": [
              "<class 'statsmodels.iolib.table.SimpleTable'>"
            ]
          },
          "metadata": {
            "tags": []
          },
          "execution_count": 15
        },
        {
          "output_type": "display_data",
          "data": {
            "image/png": "[encoded data removed]",
            "text/plain": [
              "<Figure size 720x432 with 1 Axes>"
            ]
          },
          "metadata": {
            "tags": [],
            "needs_background": "light"
          }
        }
      ]
    },
    {
      "cell_type": "markdown",
      "metadata": {
        "id": "sj16LAukqFoa"
      },
      "source": [
        "The tukey summary shows that only 3 pairs are significant enought to reject the null hypothesis. The  3 pairs are (black, white), (hispanic, white), and (other, white). The chart also futhers this point, but it also shows why the pair (asian, white) was not significant enough to reject the null hypothesis. The confidence interval of the white group over laps the confidence interval of the asian group. This means that they could possibly have the same value there for not rejecting the null hypothesis. "
      ]
    },
    {
      "cell_type": "markdown",
      "metadata": {
        "id": "puERPo4RQ5fb"
      },
      "source": [
        "# Conclusions"
      ]
    },
    {
      "cell_type": "markdown",
      "metadata": {
        "id": "o_uQTEVUr0Hs"
      },
      "source": [
        "What we can conclude from this ANOVA analysis is that the only group that is significantly different from the rest is the white group. The white group is closest to the asian group and furthest from the black group."
      ]
    }
  ]
}